{
 "cells": [
  {
   "cell_type": "code",
   "execution_count": 1,
   "metadata": {},
   "outputs": [],
   "source": [
    "import cv2\n",
    "import numpy as np"
   ]
  },
  {
   "cell_type": "code",
   "execution_count": 2,
   "metadata": {},
   "outputs": [],
   "source": [
    "Face_Cascade=cv2.CascadeClassifier('Haarcascades/haarcascade_frontalface_default.xml')\n",
    "\n",
    "def Detect_Face(Image):\n",
    "    Face_Image=Image.copy()\n",
    "    Face=Face_Cascade.detectMultiScale(Face_Image,scaleFactor=1.2,minNeighbors=5)\n",
    "    \n",
    "    for (x,y,w,h) in Face:\n",
    "        # COLOR CAN BE DEFINED\n",
    "        cv2.rectangle(Face_Image,(x,y),(x+w,y+h),10)\n",
    "    return Face_Image\n",
    "    \n",
    "    return Face"
   ]
  },
  {
   "cell_type": "code",
   "execution_count": 3,
   "metadata": {},
   "outputs": [],
   "source": [
    "Eye_Cascade=cv2.CascadeClassifier('Haarcascades/haarcascade_eye.xml')\n",
    "\n",
    "def Detect_Eyes(Image):\n",
    "    Face_Image=Image.copy()\n",
    "    Eye_Rect=Eye_Cascade.detectMultiScale(Face_Image)\n",
    "    \n",
    "    for (x,y,w,h) in Eye_Rect:\n",
    "        cv2.rectangle(Face_Image,(x,y),(x+w,y+h),10)\n",
    "    return Face_Image"
   ]
  },
  {
   "cell_type": "code",
   "execution_count": 4,
   "metadata": {},
   "outputs": [],
   "source": [
    "Video=cv2.VideoCapture(0)\n",
    "Count=0\n",
    "\n",
    "while True:\n",
    "    Ret,Frame=Video.read()\n",
    "    \n",
    "    if Detect_Eyes(Frame).all:\n",
    "        Count=Count+1\n",
    "        \n",
    "        # SET THE LOCATION AND SAVE THE FACE OF EACH FRAME IN THAT LOCATION\n",
    "        Face=cv2.resize(Detect_Eyes(Frame),(224,224))\n",
    "        Image_Path='./Images/Training_Set/A/'+ str(Count) +'.jpg'\n",
    "        cv2.imwrite(Image_Path,Face)\n",
    "        \n",
    "        # COUNT IMAGES AND DISPLAY COUNT\n",
    "        cv2.putText(Face,str(Count),(50,50),cv2.FONT_HERSHEY_COMPLEX,1,(255,0,0),2)\n",
    "        cv2.imshow('Face_Detection',Face)\n",
    "        \n",
    "    if cv2.waitKey(1) == 27 or Count == 100: \n",
    "        break\n",
    "    \n",
    "Video.release()\n",
    "cv2.destroyAllWindows()"
   ]
  },
  {
   "cell_type": "code",
   "execution_count": null,
   "metadata": {},
   "outputs": [],
   "source": []
  }
 ],
 "metadata": {
  "kernelspec": {
   "display_name": "Python 3",
   "language": "python",
   "name": "python3"
  },
  "language_info": {
   "codemirror_mode": {
    "name": "ipython",
    "version": 3
   },
   "file_extension": ".py",
   "mimetype": "text/x-python",
   "name": "python",
   "nbconvert_exporter": "python",
   "pygments_lexer": "ipython3",
   "version": "3.7.6"
  }
 },
 "nbformat": 4,
 "nbformat_minor": 4
}
