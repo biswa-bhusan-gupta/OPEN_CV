{
 "cells": [
  {
   "cell_type": "code",
   "execution_count": 1,
   "metadata": {},
   "outputs": [],
   "source": [
    "import cv2\n",
    "import numpy as np\n",
    "\n",
    "# FUNCTION:\n",
    "\n",
    "#Create a Function based upon CV2 Event \n",
    "def Draw_Circle(Event,x,y,Param,Flag):\n",
    "    if Event==cv2.EVENT_LBUTTONDOWN:\n",
    "        cv2.circle(Image,(x,y),50,(250,0,0),-1)\n",
    "    elif Event==cv2.EVENT_RBUTTONDOWN:\n",
    "         cv2.circle(Image,(x,y),50,(0,250,0),-1)\n",
    "            \n",
    "# The Name of the Window we can Reference to\n",
    "cv2.namedWindow(winname='Image')\n",
    "# Connects the Mouse Button to Callback Function\n",
    "cv2.setMouseCallback('Image',Draw_Circle)\n",
    "\n",
    "\n",
    "# SHOWING IMAGE WITH OPEN CV:\n",
    "\n",
    "# Create a Black Image\n",
    "Image=np.zeros(shape=(512,512,3))\n",
    "\n",
    "while True:\n",
    "      cv2.imshow('Image',Image)\n",
    "      \n",
    "      if cv2.waitKey(1) & 0xFF == 27:\n",
    "            break\n",
    "cv2.destroyAllWindows()"
   ]
  },
  {
   "cell_type": "code",
   "execution_count": null,
   "metadata": {},
   "outputs": [],
   "source": [
    "import cv2\n",
    "import numpy as np\n",
    "\n",
    "# FUNCTION:\n",
    "def Draw_Circle(Event,x,y,Param,Flag):\n",
    "    if Event==cv2.EVENT_LBUTTONDOWN:\n",
    "        cv2.circle(Image,(x,y),50,(250,0,0),-1)\n",
    "    elif Event==cv2.EVENT_RBUTTONDOWN:\n",
    "         cv2.circle(Image,(x,y),50,(0,250,0),-1)\n",
    "            \n",
    "cv2.namedWindow(winname='Image')\n",
    "cv2.setMouseCallback('Image',Draw_Circle)\n",
    "\n",
    "\n",
    "# SHOWING IMAGE WITH OPEN CV:\n",
    "Image=np.zeros(shape=(512,512,3),dtype=np.int8)\n",
    "\n",
    "while True:\n",
    "      cv2.imshow('Image',Image)\n",
    "      \n",
    "      if cv2.waitKey(1) & 0xFF == 27:\n",
    "            break\n",
    "cv2.destroyAllWindows()"
   ]
  },
  {
   "cell_type": "code",
   "execution_count": null,
   "metadata": {},
   "outputs": [],
   "source": []
  }
 ],
 "metadata": {
  "kernelspec": {
   "display_name": "Python 3",
   "language": "python",
   "name": "python3"
  },
  "language_info": {
   "codemirror_mode": {
    "name": "ipython",
    "version": 3
   },
   "file_extension": ".py",
   "mimetype": "text/x-python",
   "name": "python",
   "nbconvert_exporter": "python",
   "pygments_lexer": "ipython3",
   "version": "3.7.6"
  }
 },
 "nbformat": 4,
 "nbformat_minor": 4
}
