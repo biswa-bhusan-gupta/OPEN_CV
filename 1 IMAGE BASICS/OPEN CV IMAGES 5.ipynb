{
 "cells": [
  {
   "cell_type": "code",
   "execution_count": 1,
   "metadata": {},
   "outputs": [],
   "source": [
    "import numpy as np\n",
    "import cv2\n",
    "\n",
    "# VARIABLES: True-When Mouse Button is Down,False-When Mouse Button is UP\n",
    "Drawing=True\n",
    "ix,iy= -1,-1\n",
    "\n",
    "# FUNCTION:\n",
    "def Draw_Rectangle(Event,x,y,Param,Flag):\n",
    "    global ix,iy,Drawing\n",
    "    \n",
    "    if Event==cv2.EVENT_LBUTTONDOWN:\n",
    "        Drawing=True\n",
    "        # Where the Mouse is now Located\n",
    "        ix,iy=x,y\n",
    "        \n",
    "    elif Event==cv2.EVENT_MOUSEMOVE:\n",
    "        if Drawing==True: \n",
    "           # We Draw the Rectangle from the Previous Position to the x,y where it is Located\n",
    "           cv2.rectangle(Image,(ix,iy),(x,y),color=(255,0,0),thickness=-1)\n",
    "            \n",
    "    elif Event==cv2.EVENT_LBUTTONUP:\n",
    "        Drawing=False\n",
    "        # Rectangle is Complete\n",
    "        cv2.rectangle(Image,(ix,iy),(x,y),color=(255,0,0),thickness=-1)\n",
    "    \n",
    "\n",
    "# SHOWING IMAGE:\n",
    "Image=np.zeros(shape=(512,512,3))\n",
    "cv2.namedWindow(winname='Image')\n",
    "cv2.setMouseCallback('Image',Draw_Rectangle)\n",
    "\n",
    "while True:\n",
    "    cv2.imshow('Image',Image)\n",
    "    \n",
    "    if cv2.waitKey(1) & 0xFF == 27:\n",
    "        break\n",
    "        \n",
    "cv2.destroyAllWindows()"
   ]
  },
  {
   "cell_type": "code",
   "execution_count": null,
   "metadata": {},
   "outputs": [],
   "source": []
  },
  {
   "cell_type": "code",
   "execution_count": null,
   "metadata": {},
   "outputs": [],
   "source": []
  }
 ],
 "metadata": {
  "kernelspec": {
   "display_name": "Python 3",
   "language": "python",
   "name": "python3"
  },
  "language_info": {
   "codemirror_mode": {
    "name": "ipython",
    "version": 3
   },
   "file_extension": ".py",
   "mimetype": "text/x-python",
   "name": "python",
   "nbconvert_exporter": "python",
   "pygments_lexer": "ipython3",
   "version": "3.7.6"
  }
 },
 "nbformat": 4,
 "nbformat_minor": 4
}
