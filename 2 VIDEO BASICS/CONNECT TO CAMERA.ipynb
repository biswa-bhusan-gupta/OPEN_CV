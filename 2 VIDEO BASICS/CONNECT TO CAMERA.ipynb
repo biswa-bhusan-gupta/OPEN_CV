{
 "cells": [
  {
   "cell_type": "code",
   "execution_count": 1,
   "metadata": {},
   "outputs": [],
   "source": [
    "import cv2\n",
    "# Connects to Computer's Default Camera\n",
    "\n",
    "Video=cv2.VideoCapture(0)\n",
    "\n",
    "# Automatically Grab the Width and Height from Video (Returns Float which we need to convert into Integer)\n",
    "Width=int(Video.get(cv2.CAP_PROP_FRAME_WIDTH))\n",
    "Height=int(Video.get(cv2.CAP_PROP_FRAME_HEIGHT))\n",
    "\n",
    "while True:\n",
    "    \n",
    "    # Capture Frame by Frame:\n",
    "    # RET: Return(True or False)\n",
    "    Ret,Frame=Video.read()\n",
    "    \n",
    "    # Our Operations on the Frame come here:\n",
    "    Gray=cv2.cvtColor(Frame, cv2.COLOR_BGR2GRAY)\n",
    "    \n",
    "    # Display the Resulting Frame:\n",
    "    cv2.imshow('Frame',Gray)\n",
    "    \n",
    "    if cv2.waitKey(1) & 0xFF == ord('q'):\n",
    "        break\n",
    "\n",
    "Video.release()\n",
    "cv2.destroyAllWindows()\n",
    "\n"
   ]
  },
  {
   "cell_type": "code",
   "execution_count": 2,
   "metadata": {},
   "outputs": [],
   "source": [
    "import cv2\n",
    "# Connects to Computer's Default Camera\n",
    "\n",
    "Video=cv2.VideoCapture(0)\n",
    "\n",
    "# Automatically Grab the Width and Height from Video (Returns Float which we need to convert into Integer)\n",
    "Width=int(Video.get(cv2.CAP_PROP_FRAME_WIDTH))\n",
    "Height=int(Video.get(cv2.CAP_PROP_FRAME_HEIGHT))\n",
    "\n",
    "# Windows:'XVID'\n",
    "Record=cv2.VideoWriter('My_Video.mp4',cv2.VideoWriter_fourcc(*'XVID'),25,(Width,Height))\n",
    "\n",
    "while True:\n",
    "    \n",
    "    # Capture Frame by Frame:\n",
    "    Ret,Frame=Video.read()\n",
    "    \n",
    "    # Record the Video:\n",
    "    Record.write(Frame)\n",
    "    \n",
    "    # Display the Resulting Frame:\n",
    "    cv2.imshow('Frame',Frame)\n",
    "    \n",
    "    if cv2.waitKey(1) & 0xFF == ord('q'):\n",
    "        break\n",
    "\n",
    "Video.release()\n",
    "Record.release()\n",
    "cv2.destroyAllWindows()\n"
   ]
  },
  {
   "cell_type": "code",
   "execution_count": 3,
   "metadata": {},
   "outputs": [
    {
     "data": {
      "text/plain": [
       "True"
      ]
     },
     "execution_count": 3,
     "metadata": {},
     "output_type": "execute_result"
    }
   ],
   "source": [
    "Ret"
   ]
  },
  {
   "cell_type": "code",
   "execution_count": null,
   "metadata": {},
   "outputs": [],
   "source": []
  }
 ],
 "metadata": {
  "kernelspec": {
   "display_name": "Python 3",
   "language": "python",
   "name": "python3"
  },
  "language_info": {
   "codemirror_mode": {
    "name": "ipython",
    "version": 3
   },
   "file_extension": ".py",
   "mimetype": "text/x-python",
   "name": "python",
   "nbconvert_exporter": "python",
   "pygments_lexer": "ipython3",
   "version": "3.7.6"
  }
 },
 "nbformat": 4,
 "nbformat_minor": 4
}
