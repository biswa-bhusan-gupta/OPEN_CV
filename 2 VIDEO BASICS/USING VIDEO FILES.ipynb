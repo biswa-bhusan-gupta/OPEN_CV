{
 "cells": [
  {
   "cell_type": "code",
   "execution_count": 1,
   "metadata": {},
   "outputs": [],
   "source": [
    "import cv2\n",
    "import time\n",
    "\n",
    "Video=cv2.VideoCapture('My_Video.mp4')\n",
    "\n",
    "# FRAMES PER SECOND FOR A VIDEO:\n",
    "FPS=20\n",
    "\n",
    "if Video.isOpened() == False:\n",
    "    print('ERROR FILE NOT FOUND')\n",
    "\n",
    "while Video.isOpened():\n",
    "    \n",
    "    # Read Video File\n",
    "    Ret,Frame=Video.read()\n",
    "    \n",
    "    # If we got Frames,Show them\n",
    "    if Ret == True:\n",
    "        \n",
    "        # Display the Frame at the Same Rate of Recording\n",
    "        time.sleep(1/FPS)\n",
    "        cv2.imshow('Frame',Frame)\n",
    "        \n",
    "        if cv2.waitKey(1) & 0xFF == ord('q'):\n",
    "            break\n",
    "    else:\n",
    "         break\n",
    "\n",
    "Video.release()\n",
    "cv2.destroyAllWindows()\n",
    "\n",
    "\n"
   ]
  },
  {
   "cell_type": "code",
   "execution_count": null,
   "metadata": {},
   "outputs": [],
   "source": []
  }
 ],
 "metadata": {
  "kernelspec": {
   "display_name": "Python 3",
   "language": "python",
   "name": "python3"
  },
  "language_info": {
   "codemirror_mode": {
    "name": "ipython",
    "version": 3
   },
   "file_extension": ".py",
   "mimetype": "text/x-python",
   "name": "python",
   "nbconvert_exporter": "python",
   "pygments_lexer": "ipython3",
   "version": "3.7.6"
  }
 },
 "nbformat": 4,
 "nbformat_minor": 4
}
