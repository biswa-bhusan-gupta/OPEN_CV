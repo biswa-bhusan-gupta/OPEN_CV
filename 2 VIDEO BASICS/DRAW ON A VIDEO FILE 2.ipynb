{
 "cells": [
  {
   "cell_type": "code",
   "execution_count": 1,
   "metadata": {},
   "outputs": [],
   "source": [
    "import cv2\n",
    "\n",
    "# CALLBACK FUNCTION RECTANGLE:\n",
    "def Draw_Rectangle(Event,x,y,Param,Flag):\n",
    "    global Pt1,Pt2,Top_Left_Clicked,Bottom_Right_Clicked\n",
    "    \n",
    "    # GET MOUSE CLICK:\n",
    "    if Event==cv2.EVENT_LBUTTONDOWN:\n",
    "        \n",
    "        # RESET THE RECTANGLE (IT CHECKS RECTANGLE IS THERE OR NOT)\n",
    "        if Top_Left_Clicked==True and Bottom_Right_Clicked==True:\n",
    "            Pt1=(0,0)\n",
    "            Pt2=(0,0)\n",
    "            Top_Left_Clicked=False\n",
    "            Bottom_Right_Clicked=False \n",
    "        \n",
    "        if Top_Left_Clicked==False:\n",
    "            Pt1=(x,y)\n",
    "            Top_Left_Clicked=True\n",
    "            \n",
    "            \n",
    "        elif Bottom_Right_Clicked == False:\n",
    "            Pt2 = (x,y)\n",
    "            Bottom_Right_Clicked = True\n",
    "\n",
    "            \n",
    "            \n",
    "# GLOBAL VARIABLE\n",
    "Pt1=(0,0)\n",
    "Pt2=(0,0)\n",
    "Top_Left_Clicked=False\n",
    "Bottom_Right_Clicked=False\n",
    "\n",
    "# CONNECT TO THE CALLBACK:\n",
    "Video=cv2.VideoCapture(0)\n",
    "\n",
    "cv2.namedWindow('Test')\n",
    "cv2.setMouseCallback('Test',Draw_Rectangle)\n",
    "\n",
    "while True:\n",
    "    Ret,Frame=Video.read()\n",
    "    \n",
    "    # DRAWING OFF THE FRAME BASED ON THE GLOBAL VARIABLE:\n",
    "    if Top_Left_Clicked:\n",
    "        cv2.circle(Frame,center=Pt1,radius=5,color=(255,0,0),thickness=-1)\n",
    "        \n",
    "    if Top_Left_Clicked and Bottom_Right_Clicked:\n",
    "        cv2.rectangle(Frame,pt1=Pt1,pt2=Pt2,color=(255,0,0),thickness=2)\n",
    "        \n",
    "    cv2.imshow('Test',Frame)\n",
    "    if cv2.waitKey(1) & 0xFF==ord('q'):\n",
    "        break\n",
    "        \n",
    "Video.release()\n",
    "cv2.destroyAllWindows()\n",
    "\n"
   ]
  },
  {
   "cell_type": "code",
   "execution_count": null,
   "metadata": {},
   "outputs": [],
   "source": []
  }
 ],
 "metadata": {
  "kernelspec": {
   "display_name": "Python 3",
   "language": "python",
   "name": "python3"
  },
  "language_info": {
   "codemirror_mode": {
    "name": "ipython",
    "version": 3
   },
   "file_extension": ".py",
   "mimetype": "text/x-python",
   "name": "python",
   "nbconvert_exporter": "python",
   "pygments_lexer": "ipython3",
   "version": "3.7.6"
  }
 },
 "nbformat": 4,
 "nbformat_minor": 4
}
