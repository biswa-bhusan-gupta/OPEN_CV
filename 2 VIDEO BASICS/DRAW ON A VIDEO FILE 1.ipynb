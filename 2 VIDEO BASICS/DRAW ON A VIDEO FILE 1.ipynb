{
 "cells": [
  {
   "cell_type": "code",
   "execution_count": 1,
   "metadata": {},
   "outputs": [],
   "source": [
    "import cv2\n",
    "\n",
    "Video=cv2.VideoCapture(0)\n",
    "\n",
    "Width=int(Video.get(cv2.CAP_PROP_FRAME_WIDTH))\n",
    "Height=int(Video.get(cv2.CAP_PROP_FRAME_HEIGHT))\n",
    "\n",
    "# RECTANGLE:\n",
    "# TOP LEFT CORNER: X,Y\n",
    "X=Width//2\n",
    "Y=Height//2\n",
    "\n",
    "# WIDTH AND HEIGHT OF RECTANGLE:\n",
    "Width_Rect=Width//4\n",
    "Height_Rect=Height//4\n",
    "\n",
    "# BOTTOM RIGHT CORNER: X + Width_Rect,Y + Height_Rect\n",
    "\n",
    "while True:\n",
    "    Ret,Frame=Video.read()\n",
    "    cv2.rectangle(Frame,(X,Y),(X + Width_Rect,Y + Height_Rect),color=(0,0,255),thickness=4)\n",
    "    # Draw the Rectangle and Show the Frame\n",
    "    cv2.imshow('Frame',Frame)\n",
    "    \n",
    "    if cv2.waitKey(1) & 0xFF==ord('q'):\n",
    "       break\n",
    "        \n",
    "Video.release()\n",
    "cv2.destroyAllWindows()"
   ]
  },
  {
   "cell_type": "code",
   "execution_count": 2,
   "metadata": {},
   "outputs": [
    {
     "data": {
      "text/plain": [
       "3"
      ]
     },
     "execution_count": 2,
     "metadata": {},
     "output_type": "execute_result"
    }
   ],
   "source": [
    "10 // 3"
   ]
  },
  {
   "cell_type": "code",
   "execution_count": null,
   "metadata": {},
   "outputs": [],
   "source": []
  }
 ],
 "metadata": {
  "kernelspec": {
   "display_name": "Python 3",
   "language": "python",
   "name": "python3"
  },
  "language_info": {
   "codemirror_mode": {
    "name": "ipython",
    "version": 3
   },
   "file_extension": ".py",
   "mimetype": "text/x-python",
   "name": "python",
   "nbconvert_exporter": "python",
   "pygments_lexer": "ipython3",
   "version": "3.7.6"
  }
 },
 "nbformat": 4,
 "nbformat_minor": 4
}
